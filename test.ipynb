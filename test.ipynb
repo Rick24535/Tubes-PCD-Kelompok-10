{
 "cells": [
  {
   "cell_type": "code",
   "execution_count": 50,
   "metadata": {},
   "outputs": [],
   "source": [
    "import os\n",
    "import numpy as np\n",
    "import cv2\n",
    "import matplotlib.pyplot as plt\n",
    "import pickle\n",
    "from sklearn.svm import SVC\n",
    "from sklearn.model_selection import train_test_split\n",
    "from sklearn.metrics import classification_report, accuracy_score"
   ]
  },
  {
   "cell_type": "code",
   "execution_count": 51,
   "metadata": {},
   "outputs": [],
   "source": [
    "datasetDir = 'D:\\\\pcd\\\\plantdisease\\\\versions\\\\1\\\\PlantVillage'\n",
    "category = ['Pepper__bell___Bacterial_spot', 'Pepper__bell___healthy',\n",
    "            'Potato___Early_blight', 'Potato___healthy', 'Potato___Late_blight',\n",
    "            'Tomato__Target_Spot', 'Tomato__Tomato_mosaic_virus', 'Tomato__Tomato_YellowLeaf__Curl_Virus', 'Tomato_Bacterial_spot', 'Tomato_Early_blight', 'Tomato_healthy', 'Tomato_Late_blight', 'Tomato_Leaf_Mold', 'Tomato_Septoria_leaf_spot', 'Tomato_Spider_mites_Two_spotted_spider_mite',]\n",
    "\n",
    "# Pepper directories\n",
    "pepperBacterialSpotDir = os.path.join(datasetDir, category[0])\n",
    "pepperHealthyDir = os.path.join(datasetDir, category[1])\n",
    "\n",
    "# Potato directories\n",
    "potatoEarlyBlightDir = os.path.join(datasetDir, category[2])\n",
    "potatoHealthyDir = os.path.join(datasetDir, category[3])\n",
    "potatoLateBlightDir = os.path.join(datasetDir, category[4])\n",
    "\n",
    "# Tomato directories\n",
    "tomatoTargetSpotDir = os.path.join(datasetDir, category[5])\n",
    "tomatoMosaicVirusDir = os.path.join(datasetDir, category[6])\n",
    "tomatoYellowLeafCurlVirusDir = os.path.join(datasetDir, category[7])\n",
    "tomatoBacterialSpotDir = os.path.join(datasetDir, category[8])\n",
    "tomatoEarlyBlightDir = os.path.join(datasetDir, category[9])\n",
    "tomatoHealthyDir = os.path.join(datasetDir, category[10])\n",
    "tomatoLateBlightDir = os.path.join(datasetDir, category[11])\n",
    "tomatoLeafMoldDir = os.path.join(datasetDir, category[12])\n",
    "tomatoSeptoriaLeafSpotDir = os.path.join(datasetDir, category[13])\n",
    "tomatoSpiderMitesDir = os.path.join(datasetDir, category[14])\n",
    "\n",
    "data = []\n",
    "labels = []"
   ]
  },
  {
   "cell_type": "code",
   "execution_count": 52,
   "metadata": {},
   "outputs": [],
   "source": [
    "def process_images(imageDir, label):\n",
    "    for imageName in os.listdir(imageDir):\n",
    "        img_path = os.path.join(imageDir, imageName)\n",
    "        image = cv2.imread(img_path, 1)  # Read image in color\n",
    "        if image is not None:\n",
    "            image = cv2.resize(image, (64, 64))  # Resize to fixed dimensions\n",
    "            image = image.astype(np.float32) / 255.0\n",
    "            data.append(image.flatten())  # Flatten the image\n",
    "            labels.append(label)"
   ]
  },
  {
   "cell_type": "code",
   "execution_count": null,
   "metadata": {},
   "outputs": [],
   "source": [
    "process_images(pepperBacterialSpotDir, 0)\n",
    "process_images(pepperHealthyDir, 1)\n",
    "\n",
    "process_images(potatoEarlyBlightDir, 2)\n",
    "process_images(potatoHealthyDir, 3)\n",
    "process_images(potatoLateBlightDir, 4)\n",
    "\n",
    "process_images(tomatoTargetSpotDir, 5)\n",
    "process_images(tomatoMosaicVirusDir, 6)\n",
    "process_images(tomatoYellowLeafCurlVirusDir, 7)\n",
    "process_images(tomatoBacterialSpotDir, 8)\n",
    "process_images(tomatoEarlyBlightDir, 9)\n",
    "process_images(tomatoHealthyDir, 10)\n",
    "process_images(tomatoLateBlightDir, 11)\n",
    "process_images(tomatoLeafMoldDir, 12)\n",
    "process_images(tomatoSeptoriaLeafSpotDir, 13)\n",
    "process_images(tomatoSpiderMitesDir, 14)\n",
    "    "
   ]
  },
  {
   "cell_type": "code",
   "execution_count": 54,
   "metadata": {},
   "outputs": [],
   "source": [
    "# convert built in array into numpy arrays\n",
    "data = np.array(data)\n",
    "label = np.array(labels)"
   ]
  },
  {
   "cell_type": "code",
   "execution_count": 55,
   "metadata": {},
   "outputs": [],
   "source": [
    "X_train, X_test, y_train, y_test = train_test_split(data, labels, test_size = 0.2, random_state = 42)"
   ]
  },
  {
   "cell_type": "code",
   "execution_count": null,
   "metadata": {},
   "outputs": [],
   "source": [
    "svm = SVC(kernel = 'linear')\n",
    "svm.fit(X_train, y_train)"
   ]
  },
  {
   "cell_type": "code",
   "execution_count": 41,
   "metadata": {},
   "outputs": [],
   "source": [
    "y_pred = svm.predict(X_test)"
   ]
  },
  {
   "cell_type": "code",
   "execution_count": 42,
   "metadata": {},
   "outputs": [
    {
     "name": "stdout",
     "output_type": "stream",
     "text": [
      "Classification Report:\n",
      "               precision    recall  f1-score   support\n",
      "\n",
      "           0       0.80      0.75      0.77       216\n",
      "           1       0.91      0.93      0.92       294\n",
      "           2       0.88      0.92      0.90       179\n",
      "           3       0.67      0.36      0.47        22\n",
      "           4       0.80      0.84      0.82       215\n",
      "\n",
      "    accuracy                           0.85       926\n",
      "   macro avg       0.81      0.76      0.78       926\n",
      "weighted avg       0.85      0.85      0.85       926\n",
      "\n",
      "Accuracy: 0.8498920086393088\n"
     ]
    }
   ],
   "source": [
    "print(\"Classification Report:\\n\", classification_report(y_test, y_pred))\n",
    "print(\"Accuracy:\", accuracy_score(y_test, y_pred))"
   ]
  }
 ],
 "metadata": {
  "kernelspec": {
   "display_name": "Python 3",
   "language": "python",
   "name": "python3"
  },
  "language_info": {
   "codemirror_mode": {
    "name": "ipython",
    "version": 3
   },
   "file_extension": ".py",
   "mimetype": "text/x-python",
   "name": "python",
   "nbconvert_exporter": "python",
   "pygments_lexer": "ipython3",
   "version": "3.12.8"
  }
 },
 "nbformat": 4,
 "nbformat_minor": 2
}
